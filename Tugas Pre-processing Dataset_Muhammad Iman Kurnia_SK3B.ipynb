{
 "cells": [
  {
   "cell_type": "code",
   "execution_count": 2,
   "id": "76ff9ab7-b75e-4bdc-9036-b9ebdd91bd07",
   "metadata": {},
   "outputs": [],
   "source": [
    "# Mengimport pandas dan tabulate(agar outputnya menggunakan tabel)\n",
    "import pandas as pd\n",
    "from tabulate import tabulate\n",
    "\n",
    "# Mengaktifkan opsi Pandas untuk mengikuti perilaku mendatang\n",
    "pd.set_option('future.no_silent_downcasting', True)"
   ]
  },
  {
   "cell_type": "code",
   "execution_count": 3,
   "id": "50b56ed0-e2d5-4432-bda7-f5bf0a2ba6f4",
   "metadata": {},
   "outputs": [],
   "source": [
    "# Mengimport dataset\n",
    "df = pd.read_csv('C:\\\\Dataset\\\\archive\\\\heart_disease_uci.csv')"
   ]
  },
  {
   "cell_type": "code",
   "execution_count": 4,
   "id": "d95e9ff8-ccb3-4799-93d3-ba488486e7f0",
   "metadata": {},
   "outputs": [
    {
     "name": "stdout",
     "output_type": "stream",
     "text": [
      "Missing value sebelum preprocessing:\n",
      "╒════╤══════════╤══════════════════╕\n",
      "│    │ Column   │   Missing Values │\n",
      "╞════╪══════════╪══════════════════╡\n",
      "│  0 │ id       │                0 │\n",
      "├────┼──────────┼──────────────────┤\n",
      "│  1 │ age      │                0 │\n",
      "├────┼──────────┼──────────────────┤\n",
      "│  2 │ sex      │                0 │\n",
      "├────┼──────────┼──────────────────┤\n",
      "│  3 │ dataset  │                0 │\n",
      "├────┼──────────┼──────────────────┤\n",
      "│  4 │ cp       │                0 │\n",
      "├────┼──────────┼──────────────────┤\n",
      "│  5 │ trestbps │               59 │\n",
      "├────┼──────────┼──────────────────┤\n",
      "│  6 │ chol     │               30 │\n",
      "├────┼──────────┼──────────────────┤\n",
      "│  7 │ fbs      │               90 │\n",
      "├────┼──────────┼──────────────────┤\n",
      "│  8 │ restecg  │                2 │\n",
      "├────┼──────────┼──────────────────┤\n",
      "│  9 │ thalch   │               55 │\n",
      "├────┼──────────┼──────────────────┤\n",
      "│ 10 │ exang    │               55 │\n",
      "├────┼──────────┼──────────────────┤\n",
      "│ 11 │ oldpeak  │               62 │\n",
      "├────┼──────────┼──────────────────┤\n",
      "│ 12 │ slope    │              309 │\n",
      "├────┼──────────┼──────────────────┤\n",
      "│ 13 │ ca       │              611 │\n",
      "├────┼──────────┼──────────────────┤\n",
      "│ 14 │ thal     │              486 │\n",
      "├────┼──────────┼──────────────────┤\n",
      "│ 15 │ num      │                0 │\n",
      "╘════╧══════════╧══════════════════╛\n"
     ]
    }
   ],
   "source": [
    "# Mengecek missing value sebelum preprocessing dan menampilkannya dalam bentuk tabel\n",
    "missing_before = df.isnull().sum()\n",
    "missing_table_before = pd.DataFrame({\n",
    "    'Column': missing_before.index,\n",
    "    'Missing Values': missing_before.values\n",
    "})\n",
    "print(\"Missing value sebelum preprocessing:\")\n",
    "print(tabulate(missing_table_before, headers='keys', tablefmt='fancy_grid'))"
   ]
  },
  {
   "cell_type": "code",
   "execution_count": 5,
   "id": "2dd8168c-9284-43c7-8b71-bf469109faac",
   "metadata": {},
   "outputs": [
    {
     "name": "stdout",
     "output_type": "stream",
     "text": [
      "\n",
      "Missing value setelah preprocessing:\n",
      "╒════╤══════════╤══════════════════╕\n",
      "│    │ Column   │   Missing Values │\n",
      "╞════╪══════════╪══════════════════╡\n",
      "│  0 │ id       │                0 │\n",
      "├────┼──────────┼──────────────────┤\n",
      "│  1 │ age      │                0 │\n",
      "├────┼──────────┼──────────────────┤\n",
      "│  2 │ sex      │                0 │\n",
      "├────┼──────────┼──────────────────┤\n",
      "│  3 │ dataset  │                0 │\n",
      "├────┼──────────┼──────────────────┤\n",
      "│  4 │ cp       │                0 │\n",
      "├────┼──────────┼──────────────────┤\n",
      "│  5 │ trestbps │                0 │\n",
      "├────┼──────────┼──────────────────┤\n",
      "│  6 │ chol     │                0 │\n",
      "├────┼──────────┼──────────────────┤\n",
      "│  7 │ fbs      │                0 │\n",
      "├────┼──────────┼──────────────────┤\n",
      "│  8 │ restecg  │                0 │\n",
      "├────┼──────────┼──────────────────┤\n",
      "│  9 │ thalch   │                0 │\n",
      "├────┼──────────┼──────────────────┤\n",
      "│ 10 │ exang    │                0 │\n",
      "├────┼──────────┼──────────────────┤\n",
      "│ 11 │ oldpeak  │                0 │\n",
      "├────┼──────────┼──────────────────┤\n",
      "│ 12 │ slope    │                0 │\n",
      "├────┼──────────┼──────────────────┤\n",
      "│ 13 │ ca       │                0 │\n",
      "├────┼──────────┼──────────────────┤\n",
      "│ 14 │ thal     │                0 │\n",
      "├────┼──────────┼──────────────────┤\n",
      "│ 15 │ num      │                0 │\n",
      "╘════╧══════════╧══════════════════╛\n"
     ]
    }
   ],
   "source": [
    "# Mengatasi missing value, jika missing value numerik, diisi dengan median. Jika missing value kategorikal, diisi dengan modus\n",
    "numeric_cols = df.select_dtypes(include=['float64', 'int64']).columns\n",
    "df[numeric_cols] = df[numeric_cols].fillna(df[numeric_cols].median())\n",
    "\n",
    "categorical_cols = df.select_dtypes(include=['object']).columns\n",
    "df[categorical_cols] = df[categorical_cols].fillna(df[categorical_cols].mode().iloc[0])\n",
    "\n",
    "# Mengecek ulang missing value setelah preprocessing dan menapilkannya dalam bentuk tabel\n",
    "missing_after = df.isnull().sum()\n",
    "missing_table_after = pd.DataFrame({\n",
    "    'Column': missing_after.index,\n",
    "    'Missing Values': missing_after.values\n",
    "})\n",
    "print(\"\\nMissing value setelah preprocessing:\")\n",
    "print(tabulate(missing_table_after, headers='keys', tablefmt='fancy_grid'))"
   ]
  },
  {
   "cell_type": "code",
   "execution_count": 6,
   "id": "ae13713d-9329-418f-8473-71ffced7de25",
   "metadata": {},
   "outputs": [],
   "source": [
    "# Menyimpan dataset yang sudah diproses\n",
    "df.to_csv('processed_dataset.csv', index=False)"
   ]
  }
 ],
 "metadata": {
  "kernelspec": {
   "display_name": "Python 3 (ipykernel)",
   "language": "python",
   "name": "python3"
  },
  "language_info": {
   "codemirror_mode": {
    "name": "ipython",
    "version": 3
   },
   "file_extension": ".py",
   "mimetype": "text/x-python",
   "name": "python",
   "nbconvert_exporter": "python",
   "pygments_lexer": "ipython3",
   "version": "3.12.4"
  }
 },
 "nbformat": 4,
 "nbformat_minor": 5
}
